{
 "cells": [
  {
   "cell_type": "code",
   "execution_count": 4,
   "id": "d83d2074-a5b4-4486-8c38-84762813775a",
   "metadata": {},
   "outputs": [],
   "source": [
    "from datasets import load_dataset\n",
    "\n",
    "# Login using e.g. `huggingface-cli login` to access this dataset\n",
    "ds = load_dataset(\"YShynkarov/COSMUS\")"
   ]
  },
  {
   "cell_type": "code",
   "execution_count": 9,
   "id": "5628b88d-c676-4513-b766-9fa51510fadc",
   "metadata": {},
   "outputs": [
    {
     "name": "stdout",
     "output_type": "stream",
     "text": [
      "{'response_id': 1, 'document_id': 1, 'user_id': 277133851, 'annotator_sentiment': 'neutral', 'is_ck_annotation': 1, 'response_timestamp': '2025-03-09T23:23:07.220881', 'document_content': '⚡️Українська делегація відправилася на перемовини - Офіс Президента', 'annotation_date': '2025-03-09', 'username': 'O', 'unique_document_id': '1_1', 'language_wc': 'uk', 'document_length': 67, 'gpt_labels_v1': 'neutral', 'language_gpt': 'Ukrainian', 'language_manual': 'ukrainian', 'language': 'ua', 'stratification_label': 'neutral_ua', 'df_set': 'train'}\n"
     ]
    }
   ],
   "source": [
    "# Перші приклади\n",
    "print(ds[\"train\"][0])"
   ]
  },
  {
   "cell_type": "code",
   "execution_count": 11,
   "id": "ac9b19d3-97a9-490e-8fd4-be72a7cf363d",
   "metadata": {},
   "outputs": [
    {
     "name": "stdout",
     "output_type": "stream",
     "text": [
      "<class 'pandas.core.frame.DataFrame'>\n",
      "RangeIndex: 12224 entries, 0 to 12223\n",
      "Data columns (total 18 columns):\n",
      " #   Column                Non-Null Count  Dtype \n",
      "---  ------                --------------  ----- \n",
      " 0   response_id           12224 non-null  int64 \n",
      " 1   document_id           12224 non-null  int64 \n",
      " 2   user_id               12224 non-null  int64 \n",
      " 3   annotator_sentiment   12224 non-null  object\n",
      " 4   is_ck_annotation      12224 non-null  int64 \n",
      " 5   response_timestamp    12224 non-null  object\n",
      " 6   document_content      12224 non-null  object\n",
      " 7   annotation_date       12224 non-null  object\n",
      " 8   username              12224 non-null  object\n",
      " 9   unique_document_id    12224 non-null  object\n",
      " 10  language_wc           12224 non-null  object\n",
      " 11  document_length       12224 non-null  int64 \n",
      " 12  gpt_labels_v1         12224 non-null  object\n",
      " 13  language_gpt          12224 non-null  object\n",
      " 14  language_manual       12224 non-null  object\n",
      " 15  language              12224 non-null  object\n",
      " 16  stratification_label  12224 non-null  object\n",
      " 17  df_set                12224 non-null  object\n",
      "dtypes: int64(5), object(13)\n",
      "memory usage: 1.7+ MB\n"
     ]
    }
   ],
   "source": [
    "\n",
    "df = ds[\"train\"].to_pandas()\n",
    "#df.head()\n",
    "\n",
    "df.info()"
   ]
  },
  {
   "cell_type": "code",
   "execution_count": null,
   "id": "33e4692d-ac05-4148-a0bd-722825e2a0e7",
   "metadata": {},
   "outputs": [],
   "source": []
  }
 ],
 "metadata": {
  "kernelspec": {
   "display_name": "Python 3 (ipykernel)",
   "language": "python",
   "name": "python3"
  },
  "language_info": {
   "codemirror_mode": {
    "name": "ipython",
    "version": 3
   },
   "file_extension": ".py",
   "mimetype": "text/x-python",
   "name": "python",
   "nbconvert_exporter": "python",
   "pygments_lexer": "ipython3",
   "version": "3.10.6"
  }
 },
 "nbformat": 4,
 "nbformat_minor": 5
}
